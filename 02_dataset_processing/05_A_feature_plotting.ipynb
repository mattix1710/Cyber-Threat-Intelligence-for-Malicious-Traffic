{
 "cells": [
  {
   "cell_type": "markdown",
   "metadata": {},
   "source": [
    "### Imports"
   ]
  },
  {
   "cell_type": "code",
   "execution_count": null,
   "metadata": {},
   "outputs": [],
   "source": [
    "from pathlib import Path\n",
    "import numpy as np\n",
    "import matplotlib.pyplot as plt\n",
    "import pickle\n",
    "\n",
    "from prerequisites import *"
   ]
  },
  {
   "cell_type": "markdown",
   "metadata": {},
   "source": [
    "PATH definition"
   ]
  },
  {
   "cell_type": "code",
   "execution_count": null,
   "metadata": {},
   "outputs": [],
   "source": [
    "DUMPS_PATH = Path(Path.cwd(), \"04_attack_recognition_trained\")\n",
    "\n",
    "DS_SCHEMA = label_casting(\"00_type_cast_data/type_list.txt\")\n",
    "COLUMN_LIST = column_list_reader(\"00_type_cast_data/column_list.txt\")"
   ]
  },
  {
   "cell_type": "markdown",
   "metadata": {},
   "source": [
    "### Reading the importance data"
   ]
  },
  {
   "cell_type": "code",
   "execution_count": null,
   "metadata": {},
   "outputs": [],
   "source": [
    "attacks_importances = []\n",
    "\n",
    "for dump in DUMPS_PATH.iterdir():\n",
    "    # filter attack that are not DDoSes\n",
    "    # if dump.stem.find(\"DDoS-ICMP\") == -1:\n",
    "    #     continue\n",
    "    \n",
    "    attack_trained_pickled = open(dump, \"rb\")\n",
    "    forest_classifier = pickle.load(attack_trained_pickled)\n",
    "    attack_trained_pickled.close()\n",
    "    \n",
    "    importances = forest_classifier.feature_importances_\n",
    "    \n",
    "    feat_list = []\n",
    "    for col, imports in zip(COLUMN_LIST, importances):\n",
    "        feat_list.append((col, imports))\n",
    "        \n",
    "    dtypes = [(\"feature\", \"U50\"), (\"importance\", np.float64)]\n",
    "    \n",
    "    arr = np.array(feat_list, dtype=dtypes)\n",
    "    # arr[::-1].sort(order=\"importance\",)\n",
    "    \n",
    "    attacks_importances.append((dump.stem[5:], np.sort(arr, order=\"importance\",)[::-1]))    "
   ]
  },
  {
   "cell_type": "markdown",
   "metadata": {},
   "source": [
    "### Plotting the results"
   ]
  },
  {
   "cell_type": "code",
   "execution_count": null,
   "metadata": {},
   "outputs": [],
   "source": [
    "PLOT_PATH = Path(Path.cwd(), \"FINAL_feats_plots\")\n",
    "TOP_NUM = 30\n",
    "\n",
    "for att in attacks_importances:\n",
    "    arr_top = att[1][:TOP_NUM]\n",
    "    plt.rcParams[\"figure.figsize\"] = (10, 5)\n",
    "    plt.bar(arr_top[\"feature\"], [el*100 for el in arr_top[\"importance\"]], zorder=3, color=\"#4AA160\")\n",
    "    plt.title(\"{} - Feature Importance (top {})\".format(att[0][:-9], TOP_NUM))\n",
    "    plt.xticks(rotation=90)\n",
    "    plt.ylabel(\"Importance (%)\")\n",
    "    plt.tight_layout()\n",
    "    plt.grid(zorder=0)\n",
    "    plt.savefig(Path(PLOT_PATH, \"{}.pdf\".format(att[0][:-9])), bbox_inches='tight')\n",
    "    plt.show()"
   ]
  }
 ],
 "metadata": {
  "language_info": {
   "name": "python"
  }
 },
 "nbformat": 4,
 "nbformat_minor": 2
}
