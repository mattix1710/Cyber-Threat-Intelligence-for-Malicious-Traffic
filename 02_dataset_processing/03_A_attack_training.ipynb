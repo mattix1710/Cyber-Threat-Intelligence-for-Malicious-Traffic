{
 "cells": [
  {
   "cell_type": "markdown",
   "metadata": {},
   "source": [
    "### 00. Initial imports and PATH dirs definition"
   ]
  },
  {
   "cell_type": "code",
   "execution_count": 9,
   "metadata": {},
   "outputs": [],
   "source": [
    "import polars as pl\n",
    "from pathlib import Path\n",
    "from sklearn.ensemble import RandomForestClassifier\n",
    "\n",
    "import os\n",
    "from shutil import rmtree\n",
    "import time\n",
    "import pickle\n",
    "from ipaddress import ip_address\n",
    "\n",
    "from prerequisites import attack_update, label_casting\n",
    "\n",
    "INPUT_PATH = Path(Path.cwd(), \"03.2_attacks_shuffled_divided\")\n",
    "TRAIN_PATH = Path(INPUT_PATH, \"train\")\n",
    "\n",
    "ATTACK_DUMPS_PATH = Path(Path.cwd(), \"04_attack_recognition_trained\")\n",
    "\n",
    "try:\n",
    "    os.makedirs(ATTACK_DUMPS_PATH)\n",
    "except FileExistsError:\n",
    "    rmtree(ATTACK_DUMPS_PATH)\n",
    "    os.makedirs(ATTACK_DUMPS_PATH)\n",
    "\n",
    "DS_SCHEMA = label_casting(\"00_type_cast_data/type_list.txt\")"
   ]
  },
  {
   "cell_type": "markdown",
   "metadata": {},
   "source": [
    "Creating file list"
   ]
  },
  {
   "cell_type": "code",
   "execution_count": 10,
   "metadata": {},
   "outputs": [
    {
     "name": "stdout",
     "output_type": "stream",
     "text": [
      "['Backdoor_Malware-shuffled', 'BrowserHijacking-shuffled', 'CommandInjection-shuffled', 'DDoS-ACK_Fragmentation-shuffled', 'DDoS-HTTP_Flood-shuffled', 'DDoS-ICMP_Flood-shuffled', 'DDoS-ICMP_Fragmentation-shuffled', 'DDoS-SlowLoris-shuffled', 'DDoS-TCP_Flood-shuffled', 'DDoS-UDP_Flood-shuffled', 'DDoS-UDP_Fragmentation-shuffled', 'DictionaryBruteForce-shuffled', 'DNS_Spoofing-shuffled', 'DoS-HTTP_Flood-shuffled', 'DoS-TCP_Flood-shuffled', 'DoS-UDP_Flood-shuffled', 'Mirai-greeth_flood-shuffled', 'Mirai-greip_flood-shuffled', 'Mirai-udpplain-shuffled', 'MITM-ArpSpoofing-shuffled', 'Recon-HostDiscovery-shuffled', 'Recon-OSScan-shuffled', 'Recon-PingSweep-shuffled', 'Recon-PortScan-shuffled', 'SqlInjection-shuffled', 'Uploading_Attack-shuffled', 'VulnerabilityScan-shuffled', 'XSS-shuffled']\n"
     ]
    }
   ],
   "source": [
    "attack_names = []\n",
    "TRAIN_NAME_CUT_POS = 6\n",
    "\n",
    "for el in TRAIN_PATH.iterdir():\n",
    "    attack_names.append(el.stem[TRAIN_NAME_CUT_POS:])\n",
    "ATTACK_LIST_SIZE = len(attack_names)\n",
    "\n",
    "print(attack_names)"
   ]
  },
  {
   "cell_type": "code",
   "execution_count": 11,
   "metadata": {},
   "outputs": [],
   "source": [
    "def cast_ip_to_int64(ip_string: str):\n",
    "    '''\n",
    "    converts IP from `string` format to `int64` using *ipaddress* module:\n",
    "    e.g. IP address of `192.168.1.1` will be represented as `3232235777` number, which is then easily interpreted by ML\n",
    "    '''\n",
    "    return int(ip_address(ip_string))"
   ]
  },
  {
   "cell_type": "markdown",
   "metadata": {},
   "source": [
    "### 01. Fitting a ML model"
   ]
  },
  {
   "cell_type": "code",
   "execution_count": null,
   "metadata": {},
   "outputs": [],
   "source": [
    "if_column_list_copied = False\n",
    "\n",
    "for att_name in attack_names:\n",
    "    ATT_TRAIN_PATH = Path(TRAIN_PATH, \"train_{}.csv\".format(att_name))\n",
    "    \n",
    "    if not ATT_TRAIN_PATH.is_file():\n",
    "        print(\"ERROR: TRAIN file is not available!\")\n",
    "        continue\n",
    "    \n",
    "    att_train = pl.read_csv(ATT_TRAIN_PATH, schema_overrides=DS_SCHEMA)\n",
    "    \n",
    "    # drop unnecessary features (with String type)\n",
    "    try:\n",
    "        att_train = att_train.drop([\"flow_id\", \"timestamp\", \"protocol\"])\n",
    "    except:\n",
    "        print(\"ERROR: Some column names TO DROP doesn't exist in the dataset!\")\n",
    "    \n",
    "    try:\n",
    "        att_train = att_train.with_columns([\n",
    "            pl.col(\"src_ip\", \"dst_ip\").map_elements(cast_ip_to_int64, return_dtype=pl.Int64)\n",
    "        ])\n",
    "    except pl.exceptions.ColumnNotFoundError:\n",
    "        print(\"ERROR: chosen columns were not found! No changes to the dataframe has been made!\")  \n",
    "        \n",
    "    # extracting benign traffic as 1 and the rest of network traffic flows as 0\n",
    "    # of TRAIN part\n",
    "    attack_or_not = []\n",
    "    for attrib in att_train.get_column(\"label\"):\n",
    "        if attrib == \"BenignTraffic\":\n",
    "            attack_or_not.append(1)\n",
    "        else:\n",
    "            attack_or_not.append(0)\n",
    "    \n",
    "    df_train = att_train.clone()\n",
    "    df_train = df_train.with_columns((pl.lit(pl.Series(attack_or_not)).alias('label')))\n",
    "    y_train = df_train.select('label').to_series().to_list()\n",
    "    df_train = df_train.drop('label')\n",
    "    X_train = df_train.to_numpy()\n",
    "    \n",
    "    # creating a feature/column list\n",
    "    if not if_column_list_copied:\n",
    "        with open(\"00_type_cast_data/column_list.txt\", \"w\") as col_list_file:\n",
    "            for col in df_train.columns:\n",
    "                col_list_file.write(\"{}\\n\".format(col))\n",
    "        if_column_list_copied = True\n",
    "\n",
    "    forest_classifier = RandomForestClassifier(n_estimators=250, verbose=1, random_state=0, n_jobs=-2)\n",
    "    \n",
    "    print(\"INFO: fitting! ({})\".format(att_name))\n",
    "    stopwatch = time.time()\n",
    "    forest_classifier.fit(X_train, y_train)\n",
    "    log = \"INFO: fitting ended in: {}s\".format(round(time.time()-stopwatch, 2))\n",
    "    print(log)\n",
    "    attack_update(log)\n",
    "    \n",
    "    with open(Path(ATTACK_DUMPS_PATH, \"dump_{}.dmp\".format(att_name)), \"wb\") as file:\n",
    "        pickle.dump(forest_classifier, file)"
   ]
  }
 ],
 "metadata": {
  "kernelspec": {
   "display_name": "venv",
   "language": "python",
   "name": "python3"
  },
  "language_info": {
   "codemirror_mode": {
    "name": "ipython",
    "version": 3
   },
   "file_extension": ".py",
   "mimetype": "text/x-python",
   "name": "python",
   "nbconvert_exporter": "python",
   "pygments_lexer": "ipython3",
   "version": "3.12.1"
  }
 },
 "nbformat": 4,
 "nbformat_minor": 2
}
