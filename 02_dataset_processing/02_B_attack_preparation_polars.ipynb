{
 "cells": [
  {
   "cell_type": "markdown",
   "metadata": {},
   "source": [
    "### 00. Initial imports and PATH dirs definition"
   ]
  },
  {
   "cell_type": "code",
   "execution_count": 9,
   "metadata": {},
   "outputs": [],
   "source": [
    "import random\n",
    "from pathlib import Path\n",
    "import polars as pl\n",
    "import time\n",
    "import statistics\n",
    "import os\n",
    "from shutil import rmtree\n",
    "import concurrent.futures\n",
    "from prerequisites import *\n",
    "\n",
    "MERGED_PATH = Path(Path.cwd(), \"02_attacks_merged\")\n",
    "SHUFFLED_PATH = Path(Path.cwd(), \"03_attacks_shuffled\")\n",
    "\n",
    "os.makedirs(MERGED_PATH, exist_ok=True)\n",
    "try:\n",
    "    os.makedirs(SHUFFLED_PATH)\n",
    "except FileExistsError:\n",
    "    rmtree(SHUFFLED_PATH)\n",
    "    os.makedirs(SHUFFLED_PATH)\n",
    "    \n",
    "DS_SCHEMA = label_casting(\"00_type_cast_data/type_list.txt\")"
   ]
  },
  {
   "cell_type": "markdown",
   "metadata": {},
   "source": [
    "### 01. Appending source files and reading to polars dataframe"
   ]
  },
  {
   "cell_type": "code",
   "execution_count": 11,
   "metadata": {},
   "outputs": [],
   "source": [
    "def whitelist_check(attack_name: list, whitelist: list, blacklist: list = []):   \n",
    "    # if there is a benign traffic - pass it\n",
    "    if attack_name.lower().find(\"benign\") != -1:\n",
    "        return True\n",
    "    # if there is blacklisted element\n",
    "    for el in blacklist:\n",
    "        if attack_name.find(el) != -1:\n",
    "            return False\n",
    "    # if given element is on the whitelist\n",
    "    for el in whitelist:\n",
    "        if attack_name.find(el) != -1:\n",
    "            return True\n",
    "        \n",
    "    # if there is no element on \"whitelist\" - everything is passed\n",
    "    if len(whitelist) == 0:\n",
    "        return True\n",
    "\n",
    "dfs = []\n",
    "attack_names = []\n",
    "\n",
    "whitelist = []#[\"Sql\", \"Uploading\", \"Vulnerability\", \"XSS\", \"Dict\"]\n",
    "blacklist = []\n",
    "\n",
    "for path_attack in MERGED_PATH.iterdir():\n",
    "    if not whitelist_check(path_attack.stem, whitelist):\n",
    "        continue\n",
    "    if path_attack.stem.find(\"Benign\") != -1:\n",
    "        attack_names.insert(0, path_attack.stem)\n",
    "        dfs.insert(0, pl.read_csv(path_attack, schema_overrides = DS_SCHEMA))\n",
    "        continue\n",
    "    \n",
    "    attack_names.append(path_attack.stem)\n",
    "    dfs.append(pl.read_csv(path_attack, schema_overrides = DS_SCHEMA))"
   ]
  },
  {
   "cell_type": "markdown",
   "metadata": {},
   "source": [
    "### 02. Attack shuffling"
   ]
  },
  {
   "cell_type": "code",
   "execution_count": 12,
   "metadata": {},
   "outputs": [],
   "source": [
    "def shuffle_attack(attack: pl.DataFrame, benign: pl.DataFrame, it: int, skip_concat = True, rechunking = True):\n",
    "    # INIT INFO\n",
    "    curr_data = \"SHUFFLING attack {}/{}: {}\".format(it, len(dfs)-1, attack_names[it])\n",
    "    attack_update(curr_data)\n",
    "    print(\"\\nSHUFFLING ATTACK: {}\\n\".format(attack_names[it]))\n",
    "\n",
    "    merged_dataframe = attack.clear()\n",
    "\n",
    "    benign_rows = len(benign)\n",
    "    attack_rows = len(attack)\n",
    "\n",
    "    benign_row_counter = 0\n",
    "    attack_row_counter = 0\n",
    "\n",
    "    # TIME STATS\n",
    "    mean_time_10k = []\n",
    "    mean_time_100k = []\n",
    "    start_benign_t = time.time()\n",
    "    start_att_t = time.time()\n",
    "\n",
    "    start_chunk = time.time()\n",
    "\n",
    "    while(True):\n",
    "        if random.randint(1, 10) > 3 and benign_row_counter < benign_rows:\n",
    "            merged_dataframe = pl.concat([merged_dataframe, benign[benign_row_counter]], rechunk = rechunking)\n",
    "            benign_row_counter += 1\n",
    "            if benign_row_counter % 10000 == 0:\n",
    "                curr_benign_t = time.time()\n",
    "                mean_time_10k.append(round(curr_benign_t-start_benign_t, 2))\n",
    "\n",
    "                attack_current_state(attack_names[it], round((benign_row_counter/benign_rows), 2), round((attack_row_counter/attack_rows), 2))\n",
    "\n",
    "                print(f\"{attack_names[it]} ## BENIGN: {benign_row_counter} | ATTACK: {attack_row_counter} || MEAN_T: {statistics.mean(mean_time_10k)}s, CURR_T: {curr_benign_t-start_benign_t}s\")\n",
    "                start_benign_t = time.time()\n",
    "        elif attack_row_counter < attack_rows:\n",
    "            # if there are no benign traffic left - just copy the rest of the attack flows\n",
    "            if benign_row_counter >= benign_rows:\n",
    "                merged_dataframe = pl.concat([merged_dataframe, attack[attack_row_counter:]], rechunk = rechunking)\n",
    "                attack_row_counter = attack_rows\n",
    "                break\n",
    "            merged_dataframe = pl.concat([merged_dataframe, attack[attack_row_counter]], rechunk = rechunking)\n",
    "            attack_row_counter += 1\n",
    "            if attack_row_counter % 10000 == 0:\n",
    "                curr_att_t = time.time()\n",
    "                mean_time_100k.append(round(curr_att_t-start_att_t, 2))\n",
    "\n",
    "                attack_current_state(attack_names[it], round((benign_row_counter/benign_rows), 2), round((attack_row_counter/attack_rows), 2))\n",
    "\n",
    "                print(f\"{attack_names[it]} ## BENIGN: {benign_row_counter} | ATTACK: {attack_row_counter} || MEAN_T: {statistics.mean(mean_time_100k)}s, CURR_T:{curr_att_t-start_att_t}s\")\n",
    "                start_att_t = time.time()\n",
    "        else:\n",
    "            break\n",
    "    \n",
    "    stop_chunk = time.time()\n",
    "\n",
    "    INFO_end = \"INFO: dataframe creation of an attack %s completed with\\n attacks: %d\\n benign: %d\\nTIME ELAPSED: %d\"%(attack_names[it], attack_row_counter, benign_row_counter, stop_chunk-start_chunk)\n",
    "    print(INFO_end)\n",
    "\n",
    "    # sending update to ntfy\n",
    "    attack_update(INFO_end)\n",
    "\n",
    "    merged_dataframe.write_csv(Path(SHUFFLED_PATH, \"{}-shuffled.csv\".format(attack_names[it])))"
   ]
  },
  {
   "cell_type": "markdown",
   "metadata": {},
   "source": [
    "List attack dataframes (names and shapes)"
   ]
  },
  {
   "cell_type": "code",
   "execution_count": 13,
   "metadata": {},
   "outputs": [
    {
     "name": "stdout",
     "output_type": "stream",
     "text": [
      "['BenignTraffic', 'DictionaryBruteForce', 'SqlInjection', 'Uploading_Attack', 'VulnerabilityScan', 'XSS']\n",
      "0 | BenignTraffic - (1098195, 47)\n",
      "1 | DictionaryBruteForce - (13064, 47)\n",
      "2 | SqlInjection - (5245, 47)\n",
      "3 | Uploading_Attack - (1252, 47)\n",
      "4 | VulnerabilityScan - (37382, 47)\n",
      "5 | XSS - (3846, 47)\n"
     ]
    }
   ],
   "source": [
    "print(attack_names)\n",
    "\n",
    "for it in range(len(dfs)):\n",
    "    print(\"{iter} | {name} - {shape}\".format(iter=it, name=attack_names[it], shape = dfs[it].shape))"
   ]
  },
  {
   "cell_type": "markdown",
   "metadata": {},
   "source": [
    "### 03. Shuffling attacks with concurrency"
   ]
  },
  {
   "cell_type": "code",
   "execution_count": 20,
   "metadata": {},
   "outputs": [],
   "source": [
    "WORKERS = 4"
   ]
  },
  {
   "cell_type": "code",
   "execution_count": 21,
   "metadata": {},
   "outputs": [
    {
     "name": "stdout",
     "output_type": "stream",
     "text": [
      "\n",
      "SHUFFLING ATTACK: DictionaryBruteForce\n",
      "\n",
      "\n",
      "SHUFFLING ATTACK: SqlInjection\n",
      "\n",
      "\n",
      "SHUFFLING ATTACK: Uploading_Attack\n",
      "\n",
      "\n",
      "SHUFFLING ATTACK: VulnerabilityScan\n",
      "\n",
      "INFO: dataframe creation of an attack Uploading_Attack completed with\n",
      " attacks: 1252\n",
      " benign: 2891\n",
      "TIME ELAPSED: 2\n",
      "\n",
      "SHUFFLING ATTACK: XSS\n",
      "\n",
      "SqlInjection ## BENIGN: 10000 | ATTACK: 4247 || MEAN_T: 17.33s, CURR_T: 17.333845615386963s\n",
      "DictionaryBruteForce ## BENIGN: 10000 | ATTACK: 4242 || MEAN_T: 17.35s, CURR_T: 17.34684920310974s\n",
      "VulnerabilityScan ## BENIGN: 10000 | ATTACK: 4164 || MEAN_T: 17.38s, CURR_T: 17.378854036331177s\n",
      "INFO: dataframe creation of an attack XSS completed with\n",
      " attacks: 3846\n",
      " benign: 9181\n",
      "TIME ELAPSED: 15\n",
      "INFO: dataframe creation of an attack SqlInjection completed with\n",
      " attacks: 5245\n",
      " benign: 12365\n",
      "TIME ELAPSED: 24\n",
      "DictionaryBruteForce ## BENIGN: 20000 | ATTACK: 8386 || MEAN_T: 23.345s, CURR_T: 29.338913917541504s\n",
      "VulnerabilityScan ## BENIGN: 20000 | ATTACK: 8461 || MEAN_T: 23.555s, CURR_T: 29.73350191116333s\n",
      "VulnerabilityScan ## BENIGN: 23739 | ATTACK: 10000 || MEAN_T: 60.46s, CURR_T:60.45763397216797s\n",
      "DictionaryBruteForce ## BENIGN: 23917 | ATTACK: 10000 || MEAN_T: 60.65s, CURR_T:60.65463161468506s\n",
      "DictionaryBruteForce ## BENIGN: 30000 | ATTACK: 12693 || MEAN_T: 28.916666666666668s, CURR_T: 40.06102681159973s\n",
      "VulnerabilityScan ## BENIGN: 30000 | ATTACK: 12739 || MEAN_T: 29.076666666666664s, CURR_T: 40.118003368377686s\n",
      "INFO: dataframe creation of an attack DictionaryBruteForce completed with\n",
      " attacks: 13064\n",
      " benign: 30903\n",
      "TIME ELAPSED: 90\n",
      "VulnerabilityScan ## BENIGN: 40000 | ATTACK: 17011 || MEAN_T: 31.002499999999998s, CURR_T: 36.78031301498413s\n",
      "VulnerabilityScan ## BENIGN: 46810 | ATTACK: 20000 || MEAN_T: 76.18s, CURR_T:91.89636707305908s\n",
      "VulnerabilityScan ## BENIGN: 50000 | ATTACK: 21342 || MEAN_T: 33.598s, CURR_T: 43.98097085952759s\n",
      "VulnerabilityScan ## BENIGN: 60000 | ATTACK: 25548 || MEAN_T: 36.205s, CURR_T: 49.23801374435425s\n",
      "VulnerabilityScan ## BENIGN: 69941 | ATTACK: 30000 || MEAN_T: 93.53999999999999s, CURR_T:128.26373744010925s\n",
      "VulnerabilityScan ## BENIGN: 70000 | ATTACK: 30030 || MEAN_T: 40.13857142857143s, CURR_T: 63.740163803100586s\n"
     ]
    }
   ],
   "source": [
    "try:\n",
    "    os.makedirs(SHUFFLED_PATH)\n",
    "except FileExistsError:\n",
    "    rmtree(SHUFFLED_PATH)\n",
    "    os.makedirs(SHUFFLED_PATH)\n",
    "\n",
    "df_benign = dfs[0]\n",
    "\n",
    "work_start = time.time()\n",
    "\n",
    "with concurrent.futures.ThreadPoolExecutor(max_workers=WORKERS) as executor:\n",
    "    futures = {executor.submit(shuffle_attack, dfs[it], df_benign, it) for it in range(1, len(dfs))}\n",
    "    for future in concurrent.futures.as_completed(futures):\n",
    "        try:\n",
    "            processed_name = future.result()\n",
    "\n",
    "            if processed_name == None:\n",
    "                continue\n",
    "        except Exception as e:\n",
    "            print(e)\n",
    "            \n",
    "work_end = time.time()\n",
    "\n",
    "print(\"FOR WORKERS {} - full time: {}s\".format(WORKERS, round(work_end-work_start, 2)))"
   ]
  }
 ],
 "metadata": {
  "kernelspec": {
   "display_name": "Python 3",
   "language": "python",
   "name": "python3"
  },
  "language_info": {
   "codemirror_mode": {
    "name": "ipython",
    "version": 3
   },
   "file_extension": ".py",
   "mimetype": "text/x-python",
   "name": "python",
   "nbconvert_exporter": "python",
   "pygments_lexer": "ipython3",
   "version": "3.12.1"
  }
 },
 "nbformat": 4,
 "nbformat_minor": 2
}
