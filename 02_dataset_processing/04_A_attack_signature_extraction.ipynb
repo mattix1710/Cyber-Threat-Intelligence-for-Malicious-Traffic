{
 "cells": [
  {
   "cell_type": "code",
   "execution_count": 1,
   "metadata": {},
   "outputs": [],
   "source": [
    "import polars as pl\n",
    "from pathlib import Path\n",
    "\n",
    "import numpy as np\n",
    "import json\n",
    "import os\n",
    "import time\n",
    "import pickle\n",
    "from ipaddress import ip_address\n",
    "\n",
    "from prerequisites import *\n",
    "from STIX_SCO_NetworkTraffic_Extended import AttackSignatureSTIXBundle\n",
    "\n",
    "INPUT_PATH = Path(Path.cwd(), \"03.2_attacks_shuffled_divided\")\n",
    "TEST_PATH = Path(INPUT_PATH, \"test\")\n",
    "ATTACK_DUMPS_PATH = Path(Path.cwd(), \"04_attack_recognition_trained\")\n",
    "\n",
    "STIX_BUNDLES_PATH = Path(Path.cwd(), \"FINAL_STIX_Bundles\")\n",
    "\n",
    "os.makedirs(STIX_BUNDLES_PATH, exist_ok=True)\n",
    "\n",
    "DS_SCHEMA = label_casting(\"00_type_cast_data/type_list.txt\")\n",
    "COLUMN_LIST = column_list_reader(\"00_type_cast_data/column_list.txt\")"
   ]
  },
  {
   "cell_type": "code",
   "execution_count": null,
   "metadata": {},
   "outputs": [],
   "source": [
    "def cast_ip_to_int64(ip_string: str):\n",
    "    '''\n",
    "    converts IP from `string` format to `int64` using *ipaddress* module:\n",
    "    e.g. IP address of `192.168.1.1` will be represented as `3232235777` number, which is then easily interpreted by ML\n",
    "    '''\n",
    "    return int(ip_address(ip_string))\n",
    "\n",
    "def cast_ip_from_int64_to_str(ip_int64):\n",
    "    '''\n",
    "    converts IP from `int64` format to `string` using *ipaddress* module:\n",
    "    e.g. IP address of `3232235777` will be represented as `192.168.1.1` string\n",
    "    '''\n",
    "    return str(ip_address(ip_int64))"
   ]
  },
  {
   "cell_type": "code",
   "execution_count": 2,
   "metadata": {},
   "outputs": [
    {
     "name": "stdout",
     "output_type": "stream",
     "text": [
      "['Backdoor_Malware-shuffled', 'BrowserHijacking-shuffled', 'CommandInjection-shuffled', 'DDoS-ACK_Fragmentation-shuffled', 'DDoS-HTTP_Flood-shuffled', 'DDoS-ICMP_Flood-shuffled', 'DDoS-ICMP_Fragmentation-shuffled', 'DDoS-SlowLoris-shuffled', 'DDoS-TCP_Flood-shuffled', 'DDoS-UDP_Flood-shuffled', 'DDoS-UDP_Fragmentation-shuffled', 'DictionaryBruteForce-shuffled', 'DNS_Spoofing-shuffled', 'DoS-HTTP_Flood-shuffled', 'DoS-TCP_Flood-shuffled', 'DoS-UDP_Flood-shuffled', 'Mirai-greeth_flood-shuffled', 'Mirai-greip_flood-shuffled', 'Mirai-udpplain-shuffled', 'MITM-ArpSpoofing-shuffled', 'Recon-HostDiscovery-shuffled', 'Recon-OSScan-shuffled', 'Recon-PingSweep-shuffled', 'Recon-PortScan-shuffled', 'SqlInjection-shuffled', 'Uploading_Attack-shuffled', 'VulnerabilityScan-shuffled', 'XSS-shuffled']\n"
     ]
    }
   ],
   "source": [
    "attack_names = []\n",
    "TEST_NAME_CUT_POS = 5\n",
    "\n",
    "for el in TEST_PATH.iterdir():\n",
    "    attack_names.append(el.stem[TEST_NAME_CUT_POS:])\n",
    "ATTACK_LIST_SIZE = len(attack_names)\n",
    "\n",
    "print(attack_names)"
   ]
  },
  {
   "cell_type": "markdown",
   "metadata": {},
   "source": [
    "## Making predictions and extracting signatures"
   ]
  },
  {
   "cell_type": "code",
   "execution_count": 14,
   "metadata": {},
   "outputs": [
    {
     "name": "stdout",
     "output_type": "stream",
     "text": [
      "INFO: predicting!\n",
      "INFO: predicting ended in: 0.05s\n",
      "{'std_header_bytes_delta_len': 3.5985, 'skewness_header_bytes_delta_len': -0.1594, 'payload_bytes_skewness': 1.5025, 'variance_header_bytes_delta_len': 12.9492, 'std_fwd_header_bytes_delta_len': 5.167, 'mean_fwd_header_bytes_delta_len': -0.6154, 'fwd_std_header_bytes': 3.58, 'mode_fwd_packets_delta_len': 0.0, 'max_header_bytes_delta_len': 12.0, 'variance_fwd_header_bytes_delta_len': 26.6982, 'mean_header_bytes_delta_len': -0.2963, 'payload_bytes_cov': 1.769, 'bwd_syn_flag_percentage_in_total': 0.03571428571428571, 'mean_fwd_packets_delta_len': -0.6154, 'fwd_cov_header_bytes': 0.1071, 'skewness_packets_delta_len': 0.4954, 'ack_flag_percentage_in_total': 0.9642857142857143, 'bwd_packets_IAT_cov': 2.5498, 'variance_header_bytes': 8.7143, 'std_header_bytes': 2.952, 'rst_flag_percentage_in_total': 0.0, 'median_fwd_packets_delta_len': 0.0, 'bwd_fin_flag_percentage_in_total': 0.03571428571428571, 'cov_bwd_packets_delta_time': 2.5498, 'cov_header_bytes': 0.0895, 'fwd_fin_flag_percentage_in_fwd_packets': 0.07142857142857142, 'fwd_variance_header_bytes': 12.8163, 'fwd_fin_flag_percentage_in_total': 0.03571428571428571, 'rst_flag_counts': 0, 'fwd_payload_bytes_max': 1428}\n",
      "{\"type\": \"bundle\", \"id\": \"bundle--845456d9-f4d7-45d5-b610-20e09534f77c\", \"objects\": [{\"type\": \"extension-definition\", \"spec_version\": \"2.1\", \"id\": \"extension-definition--5bfbb9b4-77ac-41c8-a522-ebc08d02ac23\", \"created_by_ref\": \"identity--7bd5ad47-e42a-41b1-9a10-e9601cf8b5a6\", \"created\": \"2024-08-22T22:33:00.911494Z\", \"modified\": \"2024-08-22T22:33:00.911494Z\", \"name\": \"network-traffic-flow-characteristics-ext-def\", \"description\": \"This schema extends the Network Traffic SCO with most important features of the flow. These features help recognizing and defining different IoT attack types.\", \"schema\": \"https://raw.githubusercontent.com/mattix1710/Cyber-Threat-Intelligence-for-Malicious-Traffic/main/STIX_schemas/ext-def/network-traffic-flow-characteristics-ext-def.json\", \"version\": \"1.0.0\", \"extension_types\": [\"property-extension\"]}, {\"type\": \"extension-definition\", \"spec_version\": \"2.1\", \"id\": \"extension-definition--19fb9112-c2bd-4fdc-90bb-9f1c46c12aea\", \"created_by_ref\": \"identity--7bd5ad47-e42a-41b1-9a10-e9601cf8b5a6\", \"created\": \"2024-08-22T22:33:00.911494Z\", \"modified\": \"2024-08-22T22:33:00.911494Z\", \"name\": \"ml-malicious-traffic-detection-ext-def\", \"description\": \"Extension for referencing an ML model trained for malicious traffic flow detection.\", \"schema\": \"https://raw.githubusercontent.com/mattix1710/Cyber-Threat-Intelligence-for-Malicious-Traffic/main/STIX_schemas/ext-def/ml-malicious-traffic-detection-ext-def.json\", \"version\": \"1.0.0\", \"extension_types\": [\"property-extension\"]}, {\"type\": \"ipv4-addr\", \"spec_version\": \"2.1\", \"id\": \"ipv4-addr--114956c9-37ea-53a1-ba3e-2a33c773644f\", \"value\": \"192.168.137.231\"}, {\"type\": \"ipv4-addr\", \"spec_version\": \"2.1\", \"id\": \"ipv4-addr--116f282f-f0d0-54e1-afbd-50d2bac5efb3\", \"value\": \"13.225.195.54\"}, {\"type\": \"identity\", \"spec_version\": \"2.1\", \"id\": \"identity--7bd5ad47-e42a-41b1-9a10-e9601cf8b5a6\", \"created\": \"2024-08-22T22:33:00.911494Z\", \"modified\": \"2024-08-22T22:33:00.911494Z\", \"name\": \"Mateusz Szuda\", \"identity_class\": \"individual\"}, {\"type\": \"network-traffic\", \"spec_version\": \"2.1\", \"id\": \"network-traffic--377c8e55-1505-5ea0-a03b-2e3653485933\", \"src_ref\": \"ipv4-addr--114956c9-37ea-53a1-ba3e-2a33c773644f\", \"dst_ref\": \"ipv4-addr--116f282f-f0d0-54e1-afbd-50d2bac5efb3\", \"src_port\": 57992, \"dst_port\": 443, \"protocols\": [\"tcp\"], \"extensions\": {\"extension-definition--5bfbb9b4-77ac-41c8-a522-ebc08d02ac23\": {\"std_header_bytes_delta_len\": 3.5985, \"skewness_header_bytes_delta_len\": -0.1594, \"payload_bytes_skewness\": 1.5025, \"variance_header_bytes_delta_len\": 12.9492, \"std_fwd_header_bytes_delta_len\": 5.167, \"mean_fwd_header_bytes_delta_len\": -0.6154, \"fwd_std_header_bytes\": 3.58, \"mode_fwd_packets_delta_len\": 0.0, \"max_header_bytes_delta_len\": 12.0, \"variance_fwd_header_bytes_delta_len\": 26.6982, \"mean_header_bytes_delta_len\": -0.2963, \"payload_bytes_cov\": 1.769, \"bwd_syn_flag_percentage_in_total\": 0.03571428571428571, \"mean_fwd_packets_delta_len\": -0.6154, \"fwd_cov_header_bytes\": 0.1071, \"skewness_packets_delta_len\": 0.4954, \"ack_flag_percentage_in_total\": 0.9642857142857143, \"bwd_packets_IAT_cov\": 2.5498, \"variance_header_bytes\": 8.7143, \"std_header_bytes\": 2.952, \"rst_flag_percentage_in_total\": 0.0, \"median_fwd_packets_delta_len\": 0.0, \"bwd_fin_flag_percentage_in_total\": 0.03571428571428571, \"cov_bwd_packets_delta_time\": 2.5498, \"cov_header_bytes\": 0.0895, \"fwd_fin_flag_percentage_in_fwd_packets\": 0.07142857142857142, \"fwd_variance_header_bytes\": 12.8163, \"fwd_fin_flag_percentage_in_total\": 0.03571428571428571, \"rst_flag_counts\": 0, \"fwd_payload_bytes_max\": 1428}, \"extension-definition--19fb9112-c2bd-4fdc-90bb-9f1c46c12aea\": {\"ml_model_path\": \"e:/_mgr/master-files/MAIN-dataset_processing/04_attack_recognition_trained/dump_Backdoor_Malware-shuffled.dmp\", \"ml_model_sha256_hash\": \"1605fc67eb1dd56403fa8bed4c491ac6e2dbcaf6a333ce897d1418b6d94ee70f\"}}}]}\n"
     ]
    },
    {
     "name": "stderr",
     "output_type": "stream",
     "text": [
      "[Parallel(n_jobs=11)]: Using backend ThreadingBackend with 11 concurrent workers.\n",
      "[Parallel(n_jobs=11)]: Done  28 tasks      | elapsed:    0.0s\n",
      "[Parallel(n_jobs=11)]: Done 178 tasks      | elapsed:    0.0s\n",
      "[Parallel(n_jobs=11)]: Done 250 out of 250 | elapsed:    0.0s finished\n"
     ]
    }
   ],
   "source": [
    "for att_path in attack_names:\n",
    "    ATT_TEST_PATH = Path(TEST_PATH, \"test_{}.csv\".format(att_path))\n",
    "    \n",
    "    if not ATT_TEST_PATH.is_file():\n",
    "        print(\"ERROR: TEST file is not available!\")\n",
    "        continue\n",
    "    \n",
    "    att_test = pl.read_csv(ATT_TEST_PATH, schema_overrides=DS_SCHEMA)\n",
    "    # extract the protocols list for later signature creation purposes\n",
    "    protocols_list = att_test.get_column(\"protocol\")    \n",
    "    # drop unnecessary features (with String type)\n",
    "    try:\n",
    "        \n",
    "        att_test = att_test.drop([\"flow_id\", \"timestamp\", \"protocol\"])\n",
    "    except:\n",
    "        print(\"ERROR: Some column names TO DROP doesn't exist in the dataset!\")\n",
    "    \n",
    "    try:\n",
    "        att_test = att_test.with_columns([\n",
    "            pl.col(\"src_ip\", \"dst_ip\").map_elements(cast_ip_to_int64, return_dtype=pl.Int64)\n",
    "        ])\n",
    "    except pl.exceptions.ColumnNotFoundError:\n",
    "        print(\"ERROR: chosen columns were not found! No changes to the dataframe has been made!\")  \n",
    "        \n",
    "    # extracting attack as 1 and the rest of attacks as \"benign\"\n",
    "    # of TEST part\n",
    "    attack_or_not = []\n",
    "    for attrib in att_test.get_column(\"label\"):\n",
    "        if attrib == \"BenignTraffic\":\n",
    "            attack_or_not.append(1)\n",
    "        else:\n",
    "            attack_or_not.append(0)\n",
    "    \n",
    "    df_test = att_test.clone()\n",
    "    df_test = df_test.with_columns((pl.lit(pl.Series(attack_or_not)).alias('label')))\n",
    "    y_test = df_test.select('label').to_series().to_list()\n",
    "    df_test = df_test.drop('label')\n",
    "    X_test = df_test.to_numpy()\n",
    "    \n",
    "    attack_trained_pickled = open(Path(ATTACK_DUMPS_PATH, \"dump_{}.dmp\".format(att_path)), \"rb\")\n",
    "    forest_classifier = pickle.load(attack_trained_pickled)\n",
    "    attack_trained_pickled.close()\n",
    "    \n",
    "    # creating a dataframe of importances\n",
    "    importances = forest_classifier.feature_importances_\n",
    "    # print(importances)\n",
    "    feat_list = []\n",
    "    for col, imports in zip(COLUMN_LIST, importances):\n",
    "        feat_list.append((col, imports))\n",
    "    dtypes = [(\"feature\", \"U50\"), (\"importance\", np.float64)]\n",
    "    arr = np.array(feat_list, dtype=dtypes)\n",
    "    # sorting an array with descending order \n",
    "    arr[::-1].sort(order=\"importance\",)\n",
    "    # extracting 30 most important features\n",
    "    arr_top_feats = arr[:30]\n",
    "    \n",
    "    print(\"INFO: predicting!\")\n",
    "    stopwatch = time.time()\n",
    "    predict_classifier = forest_classifier.predict(X_test)\n",
    "    print(\"INFO: predicting ended in: {}s\".format(round(time.time()-stopwatch, 2)))\n",
    "    \n",
    "    # extract attack name for the use in the dataset\n",
    "    att_name = att_path[:att_path.find(\"-shuffled\")]\n",
    "    # add extracted column with appropriate protocol values\n",
    "    att_test = att_test.with_columns(pl.lit(protocols_list).alias(\"protocol\"))\n",
    "    # extract predictions to dicts (each prediction = one flow)\n",
    "    predicted = att_test.filter(predict_classifier == att_name).to_dicts()\n",
    "    \n",
    "    bundle_of_flows = []\n",
    "    # for each prediction\n",
    "    for el_predict in predicted:\n",
    "        # create a dictionary of most important features\n",
    "        predicted_dict = {}\n",
    "        # from the list of top X important features\n",
    "        for import_feature in arr_top_feats[\"feature\"]:\n",
    "            predicted_dict[str(import_feature)] = el_predict[import_feature]\n",
    "        print(predicted_dict)\n",
    "        # create STIX SCO Object (custom NetworkTraffic Extended)\n",
    "        curr_bundle = AttackSignatureSTIXBundle()\n",
    "        curr_bundle.create_identity(id_name = \"Mateusz Szuda\")\n",
    "        curr_bundle.create_custom_network_traffic(\n",
    "            src_ip = cast_ip_from_int64_to_str(el_predict[\"src_ip\"]),\n",
    "            dst_ip = cast_ip_from_int64_to_str(el_predict[\"dst_ip\"]),\n",
    "            src_port = el_predict[\"src_port\"],\n",
    "            dst_port = el_predict[\"dst_port\"],\n",
    "            protocols = [el_predict[\"protocol\"]],\n",
    "            features = predicted_dict,\n",
    "            ml_model_path = Path(ATTACK_DUMPS_PATH, \"dump_{}.dmp\".format(att_path))\n",
    "        )\n",
    "        print(curr_bundle.get_bundle().serialize())\n",
    "        bundle_of_flows.append(json.loads(curr_bundle.get_bundle().serialize()))\n",
    "    # save the objects to JSON\n",
    "    with open(Path(STIX_BUNDLES_PATH, \"SCO_{}.json\".format(att_name)), \"w\") as file_bundles:\n",
    "        json.dump(bundle_of_flows, file_bundles, indent=4)"
   ]
  }
 ],
 "metadata": {
  "kernelspec": {
   "display_name": "venv",
   "language": "python",
   "name": "python3"
  },
  "language_info": {
   "codemirror_mode": {
    "name": "ipython",
    "version": 3
   },
   "file_extension": ".py",
   "mimetype": "text/x-python",
   "name": "python",
   "nbconvert_exporter": "python",
   "pygments_lexer": "ipython3",
   "version": "3.12.1"
  }
 },
 "nbformat": 4,
 "nbformat_minor": 2
}
